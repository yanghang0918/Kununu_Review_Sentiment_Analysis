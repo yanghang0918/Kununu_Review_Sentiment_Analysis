{
 "cells": [
  {
   "cell_type": "code",
   "execution_count": 108,
   "outputs": [],
   "source": [
    "import pandas as pd\n",
    "pd.set_option('display.max_columns', None)  # Show all columns\n",
    "import numpy as np\n",
    "import statsmodels.api as sm\n"
   ],
   "metadata": {
    "collapsed": false,
    "ExecuteTime": {
     "end_time": "2023-09-25T22:27:25.674889Z",
     "start_time": "2023-09-25T22:27:25.616198Z"
    }
   },
   "id": "7701cd56c9f1b2fa"
  },
  {
   "cell_type": "code",
   "execution_count": 4,
   "outputs": [],
   "source": [
    "reviews = pd.read_csv(\"reviews.csv\")\n",
    "findata_a = pd.read_csv(\"findata_Total_Score_plus.csv\")\n",
    "findata_b = pd.read_csv(\"findata_Reduced_Score.csv\")\n",
    "crawler = pd.read_csv(\"crawler.csv\")"
   ],
   "metadata": {
    "collapsed": false,
    "ExecuteTime": {
     "end_time": "2023-09-25T20:04:46.798432Z",
     "start_time": "2023-09-25T20:04:43.852671Z"
    }
   },
   "id": "initial_id"
  },
  {
   "cell_type": "code",
   "execution_count": 25,
   "outputs": [],
   "source": [
    "# Convert the \"createdAt\" column to integers for comparison\n",
    "reviews['year'] = reviews[\"createdAt\"].str[:4].astype(int)\n",
    "\n",
    "# Drop rows where year is less than 2014 or greater than 2022\n",
    "reviews_2014 = reviews[(reviews['year'] >= 2014) & (reviews['year'] <= 2022)]"
   ],
   "metadata": {
    "collapsed": false,
    "ExecuteTime": {
     "end_time": "2023-09-25T20:32:27.898145Z",
     "start_time": "2023-09-25T20:32:27.789704Z"
    }
   },
   "id": "63e49cebd36ba27f"
  },
  {
   "cell_type": "code",
   "execution_count": 116,
   "outputs": [
    {
     "data": {
      "text/plain": "array(['de', 'ch', 'at'], dtype=object)"
     },
     "execution_count": 116,
     "metadata": {},
     "output_type": "execute_result"
    }
   ],
   "source": [
    "# join reviews and findata\n",
    "reviews_2014[\"common_countryCode\"].unique()"
   ],
   "metadata": {
    "collapsed": false,
    "ExecuteTime": {
     "end_time": "2023-09-25T22:32:57.645066Z",
     "start_time": "2023-09-25T22:32:57.560751Z"
    }
   },
   "id": "cb493cf84b509bdb"
  },
  {
   "cell_type": "code",
   "execution_count": 147,
   "outputs": [],
   "source": [
    "# set inputs\n",
    "score = reviews_2014[\"total_score\"].values - np.nanmean(reviews_2014[\"total_score\"].values)\n",
    "salary = (reviews_2014[\"salary_score\"].values - np.nanmean(reviews_2014[\"salary_score\"].values))/np.nanstd(reviews_2014[\"salary_score\"].values)\n",
    "year = pd.to_numeric(reviews_2014[\"createdAt\"].str[:4]).values\n",
    "leadership = (reviews_2014[\"leadership_score\"].values - np.nanmean(reviews_2014[\"leadership_score\"].values))/np.nanstd(reviews_2014[\"leadership_score\"].values)\n",
    "country = reviews_2014[\"common_countryCode\"]\n",
    "\n",
    "score[np.isnan(score)] = 0\n",
    "salary[np.isnan(salary)] = 0\n",
    "leadership[np.isnan(leadership)] = 0\n"
   ],
   "metadata": {
    "collapsed": false,
    "ExecuteTime": {
     "end_time": "2023-09-25T23:11:03.163112Z",
     "start_time": "2023-09-25T23:11:02.904823Z"
    }
   },
   "id": "32534c9652d11733"
  },
  {
   "cell_type": "code",
   "execution_count": 147,
   "outputs": [],
   "source": [],
   "metadata": {
    "collapsed": false,
    "ExecuteTime": {
     "end_time": "2023-09-25T23:11:03.998690Z",
     "start_time": "2023-09-25T23:11:03.963696Z"
    }
   },
   "id": "696723fc2502423d"
  },
  {
   "cell_type": "markdown",
   "source": [
    "#### Pooled Regression: time as continous variable with-/out moderation"
   ],
   "metadata": {
    "collapsed": false
   },
   "id": "fb81bf254346209a"
  },
  {
   "cell_type": "code",
   "execution_count": 148,
   "outputs": [],
   "source": [
    "def PooledReg_cont_time_moderation(y, x, t, m):\n",
    "    \"\"\"\n",
    "    Perform a panel regression with time and moderation.\n",
    "\n",
    "    Parameters:\n",
    "    y (numpy.ndarray): Dependent variable.\n",
    "    x (numpy.ndarray): Independent variable.\n",
    "    t (numpy.ndarray): Time variable.\n",
    "    m (numpy.ndarray): Moderator variable.\n",
    "\n",
    "    Returns:\n",
    "    statsmodels.regression.linear_model.RegressionResultsWrapper: Regression results.\n",
    "    \"\"\"\n",
    "    # Create a DataFrame from the input arrays\n",
    "    data = {'y': score, 'x': salary, 't': year, 'm': leadership}\n",
    "    df = pd.DataFrame(data)\n",
    "\n",
    "    # Define the regression formula including moderation\n",
    "    formula = 'y ~ x + t + m + x*m + x*t'\n",
    "\n",
    "    # Fit the panel regression model\n",
    "    model = sm.OLS.from_formula(formula, data=df).fit()\n",
    "\n",
    "    return model\n",
    "\n",
    "def PooledReg_cont_time(y, x, t):\n",
    "    data = {'y': score, 'x': salary, 't': year}\n",
    "    df = pd.DataFrame(data)\n",
    "\n",
    "    # Define the regression formula including moderation\n",
    "    formula = 'y ~ x + t + x*t'\n",
    "\n",
    "    # Fit the panel regression model\n",
    "    model = sm.OLS.from_formula(formula, data=df).fit()\n",
    "\n",
    "    return model\n"
   ],
   "metadata": {
    "collapsed": false,
    "ExecuteTime": {
     "end_time": "2023-09-25T23:11:05.093795Z",
     "start_time": "2023-09-25T23:11:05.080918Z"
    }
   },
   "id": "4db38856d83275e8"
  },
  {
   "cell_type": "code",
   "execution_count": 149,
   "outputs": [
    {
     "name": "stdout",
     "output_type": "stream",
     "text": [
      "                            OLS Regression Results                            \n",
      "==============================================================================\n",
      "Dep. Variable:                      y   R-squared:                       0.221\n",
      "Model:                            OLS   Adj. R-squared:                  0.221\n",
      "Method:                 Least Squares   F-statistic:                     1001.\n",
      "Date:                Tue, 26 Sep 2023   Prob (F-statistic):               0.00\n",
      "Time:                        01:11:05   Log-Likelihood:                -14982.\n",
      "No. Observations:               17604   AIC:                         2.998e+04\n",
      "Df Residuals:                   17598   BIC:                         3.002e+04\n",
      "Df Model:                           5                                         \n",
      "Covariance Type:            nonrobust                                         \n",
      "==============================================================================\n",
      "                 coef    std err          t      P>|t|      [0.025      0.975]\n",
      "------------------------------------------------------------------------------\n",
      "Intercept     -2.4402      3.876     -0.630      0.529     -10.038       5.158\n",
      "x              6.2782      3.949      1.590      0.112      -1.463      14.020\n",
      "t              0.0012      0.002      0.625      0.532      -0.003       0.005\n",
      "m              0.2007      0.007     30.201      0.000       0.188       0.214\n",
      "x:m            0.0257      0.005      4.779      0.000       0.015       0.036\n",
      "x:t           -0.0030      0.002     -1.554      0.120      -0.007       0.001\n",
      "==============================================================================\n",
      "Omnibus:                      398.865   Durbin-Watson:                   0.487\n",
      "Prob(Omnibus):                  0.000   Jarque-Bera (JB):              421.115\n",
      "Skew:                          -0.371   Prob(JB):                     3.60e-92\n",
      "Kurtosis:                       2.850   Cond. No.                     1.89e+06\n",
      "==============================================================================\n",
      "\n",
      "Notes:\n",
      "[1] Standard Errors assume that the covariance matrix of the errors is correctly specified.\n",
      "[2] The condition number is large, 1.89e+06. This might indicate that there are\n",
      "strong multicollinearity or other numerical problems.\n",
      "                            OLS Regression Results                            \n",
      "==============================================================================\n",
      "Dep. Variable:                      y   R-squared:                       0.181\n",
      "Model:                            OLS   Adj. R-squared:                  0.181\n",
      "Method:                 Least Squares   F-statistic:                     1298.\n",
      "Date:                Tue, 26 Sep 2023   Prob (F-statistic):               0.00\n",
      "Time:                        01:11:06   Log-Likelihood:                -15427.\n",
      "No. Observations:               17604   AIC:                         3.086e+04\n",
      "Df Residuals:                   17600   BIC:                         3.089e+04\n",
      "Df Model:                           3                                         \n",
      "Covariance Type:            nonrobust                                         \n",
      "==============================================================================\n",
      "                 coef    std err          t      P>|t|      [0.025      0.975]\n",
      "------------------------------------------------------------------------------\n",
      "Intercept     -4.3549      3.969     -1.097      0.273     -12.135       3.426\n",
      "x              4.1154      4.047      1.017      0.309      -3.817      12.048\n",
      "t              0.0022      0.002      1.097      0.273      -0.002       0.006\n",
      "x:t           -0.0019      0.002     -0.948      0.343      -0.006       0.002\n",
      "==============================================================================\n",
      "Omnibus:                      398.129   Durbin-Watson:                   0.409\n",
      "Prob(Omnibus):                  0.000   Jarque-Bera (JB):              418.171\n",
      "Skew:                          -0.368   Prob(JB):                     1.57e-91\n",
      "Kurtosis:                       2.830   Cond. No.                     1.89e+06\n",
      "==============================================================================\n",
      "\n",
      "Notes:\n",
      "[1] Standard Errors assume that the covariance matrix of the errors is correctly specified.\n",
      "[2] The condition number is large, 1.89e+06. This might indicate that there are\n",
      "strong multicollinearity or other numerical problems.\n"
     ]
    }
   ],
   "source": [
    "print(PooledReg_cont_time_moderation(y, x, t, m).summary())\n",
    "print(PooledReg_cont_time(y, x, t).summary())\n"
   ],
   "metadata": {
    "collapsed": false,
    "ExecuteTime": {
     "end_time": "2023-09-25T23:11:06.032227Z",
     "start_time": "2023-09-25T23:11:05.951217Z"
    }
   },
   "id": "50262790bf514de8"
  },
  {
   "cell_type": "markdown",
   "source": [
    "#### Panel Regression: time as categorical variables with-/out moderation"
   ],
   "metadata": {
    "collapsed": false
   },
   "id": "5f35f53acb43818d"
  },
  {
   "cell_type": "code",
   "execution_count": 152,
   "outputs": [
    {
     "name": "stdout",
     "output_type": "stream",
     "text": [
      "                            OLS Regression Results                            \n",
      "==============================================================================\n",
      "Dep. Variable:                  score   R-squared:                       0.229\n",
      "Model:                            OLS   Adj. R-squared:                  0.228\n",
      "Method:                 Least Squares   F-statistic:                     274.3\n",
      "Date:                Tue, 26 Sep 2023   Prob (F-statistic):               0.00\n",
      "Time:                        01:12:12   Log-Likelihood:                -14901.\n",
      "No. Observations:               17604   AIC:                         2.984e+04\n",
      "Df Residuals:                   17584   BIC:                         3.000e+04\n",
      "Df Model:                          19                                         \n",
      "Covariance Type:            nonrobust                                         \n",
      "===================================================================================================\n",
      "                                      coef    std err          t      P>|t|      [0.025      0.975]\n",
      "---------------------------------------------------------------------------------------------------\n",
      "Intercept                           0.0285      0.028      1.012      0.311      -0.027       0.084\n",
      "C(year)[T.2015]                    -0.0282      0.030     -0.947      0.344      -0.086       0.030\n",
      "C(year)[T.2016]                    -0.0076      0.028     -0.267      0.789      -0.063       0.048\n",
      "C(year)[T.2017]                     0.0135      0.027      0.501      0.616      -0.039       0.066\n",
      "C(year)[T.2018]                    -0.0116      0.025     -0.457      0.648      -0.062       0.038\n",
      "C(year)[T.2019]                     0.0065      0.025      0.265      0.791      -0.042       0.055\n",
      "C(year)[T.2020]                    -0.0192      0.025     -0.774      0.439      -0.068       0.029\n",
      "C(year)[T.2021]                    -0.0235      0.025     -0.936      0.349      -0.073       0.026\n",
      "C(year)[T.2022]                     0.0128      0.025      0.523      0.601      -0.035       0.061\n",
      "salary                              0.1033      0.020      5.215      0.000       0.064       0.142\n",
      "salary:country[T.ch]                0.0123      0.031      0.401      0.688      -0.048       0.072\n",
      "salary:country[T.de]                0.0404      0.021      1.903      0.057      -0.001       0.082\n",
      "leadership                          0.1995      0.019     10.711      0.000       0.163       0.236\n",
      "leadership:country[T.ch]           -0.0515      0.028     -1.812      0.070      -0.107       0.004\n",
      "leadership:country[T.de]            0.0058      0.020      0.290      0.772      -0.034       0.045\n",
      "salary:leadership                   0.0174      0.016      1.093      0.274      -0.014       0.049\n",
      "salary:leadership:country[T.ch]    -0.0546      0.025     -2.224      0.026      -0.103      -0.006\n",
      "salary:leadership:country[T.de]     0.0144      0.017      0.847      0.397      -0.019       0.048\n",
      "country_ch                         -0.1689      0.026     -6.506      0.000      -0.220      -0.118\n",
      "country_de                         -0.0353      0.018     -1.925      0.054      -0.071       0.001\n",
      "==============================================================================\n",
      "Omnibus:                      396.553   Durbin-Watson:                   0.487\n",
      "Prob(Omnibus):                  0.000   Jarque-Bera (JB):              420.416\n",
      "Skew:                          -0.373   Prob(JB):                     5.10e-92\n",
      "Kurtosis:                       2.874   Cond. No.                         32.5\n",
      "==============================================================================\n",
      "\n",
      "Notes:\n",
      "[1] Standard Errors assume that the covariance matrix of the errors is correctly specified.\n"
     ]
    }
   ],
   "source": [
    "import pandas as pd\n",
    "import numpy as np\n",
    "import statsmodels.api as sm\n",
    "\n",
    "# Create a DataFrame with the preprocessed data\n",
    "data = pd.DataFrame({'score': score, 'salary': salary, 'year': year, 'leadership': leadership, 'country': country})\n",
    "\n",
    "# Create entity (country) fixed effects using dummy variables\n",
    "country_dummies = pd.get_dummies(data['country'], prefix='country')\n",
    "data = pd.concat([data, country_dummies], axis=1)\n",
    "\n",
    "# Convert \"year\" to a categorical variable\n",
    "data['year'] = data['year'].astype('category')\n",
    "\n",
    "# Define the regression formula with fixed effects, interaction terms, and year effects\n",
    "formula = 'score ~ salary + leadership + C(year) + salary:leadership + salary:country + leadership:country + salary:leadership:country + ' + ' + '.join(country_dummies.columns[1:])  # Exclude the first dummy variable\n",
    "\n",
    "# Fit the fixed effects panel regression model\n",
    "model = sm.OLS.from_formula(formula, data=data)\n",
    "results = model.fit()\n",
    "\n",
    "# Print regression results\n",
    "summary = results.summary()\n",
    "print(summary)"
   ],
   "metadata": {
    "collapsed": false,
    "ExecuteTime": {
     "end_time": "2023-09-25T23:12:12.063405Z",
     "start_time": "2023-09-25T23:12:11.849967Z"
    }
   },
   "id": "65c00c2775a529cc"
  },
  {
   "cell_type": "markdown",
   "source": [
    "Panel Regression 3: "
   ],
   "metadata": {
    "collapsed": false
   },
   "id": "b1e071223b24a76a"
  },
  {
   "cell_type": "code",
   "execution_count": null,
   "outputs": [],
   "source": [],
   "metadata": {
    "collapsed": false
   },
   "id": "fe9e691643bff85c"
  }
 ],
 "metadata": {
  "kernelspec": {
   "display_name": "Python 3",
   "language": "python",
   "name": "python3"
  },
  "language_info": {
   "codemirror_mode": {
    "name": "ipython",
    "version": 2
   },
   "file_extension": ".py",
   "mimetype": "text/x-python",
   "name": "python",
   "nbconvert_exporter": "python",
   "pygments_lexer": "ipython2",
   "version": "2.7.6"
  }
 },
 "nbformat": 4,
 "nbformat_minor": 5
}
