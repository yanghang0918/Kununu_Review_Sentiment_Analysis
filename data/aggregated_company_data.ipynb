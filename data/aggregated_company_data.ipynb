{
 "cells": [
  {
   "cell_type": "code",
   "execution_count": 15,
   "outputs": [
    {
     "name": "stdout",
     "output_type": "stream",
     "text": [
      "<class 'pandas.core.frame.DataFrame'>\n",
      "RangeIndex: 103548 entries, 0 to 103547\n",
      "Data columns (total 21 columns):\n",
      " #   Column           Non-Null Count   Dtype  \n",
      "---  ------           --------------   -----  \n",
      " 0   level_0          103548 non-null  int64  \n",
      " 1   index            103548 non-null  int64  \n",
      " 2   industryId       103548 non-null  int64  \n",
      " 3   logo             4746 non-null    object \n",
      " 4   name             103548 non-null  object \n",
      " 5   uuid             103548 non-null  object \n",
      " 6   searchImage      4123 non-null    object \n",
      " 7   slug             103548 non-null  object \n",
      " 8   isTopCompany     103548 non-null  int64  \n",
      " 9   totalJobs        103548 non-null  int64  \n",
      " 10  totalReviews     103486 non-null  float64\n",
      " 11  isVerified       103548 non-null  int64  \n",
      " 12  city             103532 non-null  object \n",
      " 13  countryCode      103548 non-null  object \n",
      " 14  value            103486 non-null  float64\n",
      " 15  rounded          103486 non-null  float64\n",
      " 16  company_name     103548 non-null  object \n",
      " 17  company_idnr     103548 non-null  object \n",
      " 18  query_url        103547 non-null  object \n",
      " 19  kununu_basename  103518 non-null  object \n",
      " 20  bvd_basename     103518 non-null  object \n",
      "dtypes: float64(3), int64(6), object(12)\n",
      "memory usage: 16.6+ MB\n"
     ]
    },
    {
     "data": {
      "text/plain": "None"
     },
     "metadata": {},
     "output_type": "display_data"
    }
   ],
   "source": [
    "file_path = \"/Users/alexanderprinz/Downloads/csv_exports/crawler_v2.csv\"\n",
    "crawler = pd.read_csv(file_path)\n",
    "display(crawler.info())\n",
    "#print(crawler.head(20))"
   ],
   "metadata": {
    "collapsed": false,
    "ExecuteTime": {
     "end_time": "2023-09-23T13:38:38.793097Z",
     "start_time": "2023-09-23T13:38:37.821679Z"
    }
   },
   "id": "2dc0dee712c4f5a1"
  },
  {
   "cell_type": "code",
   "execution_count": 32,
   "outputs": [
    {
     "data": {
      "text/plain": "0         e9ffbe56-0640-40d1-b060-51ca1a973aec\n1         5fa7af3f-3c14-4b24-a3f4-6f55f4e000a6\n2         a7cb635a-9901-4a6a-96c0-5c92bd5ab1a6\n3         161e855e-fcf8-443f-a30c-8d33bbd4c9ee\n4         4d869b3e-acea-4e92-b249-3241937d02bc\n                          ...                 \n103543    a518d661-03d5-48e3-bd95-51e01959dea7\n103544    80f425be-4171-43d8-871f-04dd48a0c278\n103545    1dfb38d6-f8e9-4cd4-935c-96c36b9dab8b\n103546    8c3d160c-2bcb-4d1e-947f-5b8fe7010536\n103547    49d3f79c-2475-4cf7-a49b-fc05df1ee332\nName: uuid, Length: 103548, dtype: object"
     },
     "metadata": {},
     "output_type": "display_data"
    },
    {
     "data": {
      "text/plain": "        level_0  index  industryId logo                  name  \\\n2            32      1          29  NaN  UNIVERSAL MUSIC GMBH   \n71427    530567      1          29  NaN  UNIVERSAL MUSIC GMBH   \n103265   640246      1          29  NaN  UNIVERSAL MUSIC GMBH   \n\n                                        uuid searchImage              slug  \\\n2       a7cb635a-9901-4a6a-96c0-5c92bd5ab1a6         NaN  universal-music4   \n71427   a7cb635a-9901-4a6a-96c0-5c92bd5ab1a6         NaN  universal-music4   \n103265  a7cb635a-9901-4a6a-96c0-5c92bd5ab1a6         NaN  universal-music4   \n\n        isTopCompany  totalJobs  ...  isVerified  city countryCode value  \\\n2                  0          0  ...           0  Wien          at   2.9   \n71427              0          0  ...           0  Wien          at   2.9   \n103265             0          0  ...           0  Wien          at   2.9   \n\n        rounded          company_name    company_idnr          query_url  \\\n2           3.0  UNIVERSAL MUSIC GMBH  CHCHE109952083  UNIVERSAL%20MUSIC   \n71427       3.0  UNIVERSAL MUSIC GMBH    AT9110298673  UNIVERSAL%20MUSIC   \n103265      3.0  UNIVERSAL MUSIC GMBH    DE5190786182  UNIVERSAL%20MUSIC   \n\n        kununu_basename     bvd_basename  \n2       universal music  universal music  \n71427   universal music  universal music  \n103265  universal music  universal music  \n\n[3 rows x 21 columns]",
      "text/html": "<div>\n<style scoped>\n    .dataframe tbody tr th:only-of-type {\n        vertical-align: middle;\n    }\n\n    .dataframe tbody tr th {\n        vertical-align: top;\n    }\n\n    .dataframe thead th {\n        text-align: right;\n    }\n</style>\n<table border=\"1\" class=\"dataframe\">\n  <thead>\n    <tr style=\"text-align: right;\">\n      <th></th>\n      <th>level_0</th>\n      <th>index</th>\n      <th>industryId</th>\n      <th>logo</th>\n      <th>name</th>\n      <th>uuid</th>\n      <th>searchImage</th>\n      <th>slug</th>\n      <th>isTopCompany</th>\n      <th>totalJobs</th>\n      <th>...</th>\n      <th>isVerified</th>\n      <th>city</th>\n      <th>countryCode</th>\n      <th>value</th>\n      <th>rounded</th>\n      <th>company_name</th>\n      <th>company_idnr</th>\n      <th>query_url</th>\n      <th>kununu_basename</th>\n      <th>bvd_basename</th>\n    </tr>\n  </thead>\n  <tbody>\n    <tr>\n      <th>2</th>\n      <td>32</td>\n      <td>1</td>\n      <td>29</td>\n      <td>NaN</td>\n      <td>UNIVERSAL MUSIC GMBH</td>\n      <td>a7cb635a-9901-4a6a-96c0-5c92bd5ab1a6</td>\n      <td>NaN</td>\n      <td>universal-music4</td>\n      <td>0</td>\n      <td>0</td>\n      <td>...</td>\n      <td>0</td>\n      <td>Wien</td>\n      <td>at</td>\n      <td>2.9</td>\n      <td>3.0</td>\n      <td>UNIVERSAL MUSIC GMBH</td>\n      <td>CHCHE109952083</td>\n      <td>UNIVERSAL%20MUSIC</td>\n      <td>universal music</td>\n      <td>universal music</td>\n    </tr>\n    <tr>\n      <th>71427</th>\n      <td>530567</td>\n      <td>1</td>\n      <td>29</td>\n      <td>NaN</td>\n      <td>UNIVERSAL MUSIC GMBH</td>\n      <td>a7cb635a-9901-4a6a-96c0-5c92bd5ab1a6</td>\n      <td>NaN</td>\n      <td>universal-music4</td>\n      <td>0</td>\n      <td>0</td>\n      <td>...</td>\n      <td>0</td>\n      <td>Wien</td>\n      <td>at</td>\n      <td>2.9</td>\n      <td>3.0</td>\n      <td>UNIVERSAL MUSIC GMBH</td>\n      <td>AT9110298673</td>\n      <td>UNIVERSAL%20MUSIC</td>\n      <td>universal music</td>\n      <td>universal music</td>\n    </tr>\n    <tr>\n      <th>103265</th>\n      <td>640246</td>\n      <td>1</td>\n      <td>29</td>\n      <td>NaN</td>\n      <td>UNIVERSAL MUSIC GMBH</td>\n      <td>a7cb635a-9901-4a6a-96c0-5c92bd5ab1a6</td>\n      <td>NaN</td>\n      <td>universal-music4</td>\n      <td>0</td>\n      <td>0</td>\n      <td>...</td>\n      <td>0</td>\n      <td>Wien</td>\n      <td>at</td>\n      <td>2.9</td>\n      <td>3.0</td>\n      <td>UNIVERSAL MUSIC GMBH</td>\n      <td>DE5190786182</td>\n      <td>UNIVERSAL%20MUSIC</td>\n      <td>universal music</td>\n      <td>universal music</td>\n    </tr>\n  </tbody>\n</table>\n<p>3 rows × 21 columns</p>\n</div>"
     },
     "metadata": {},
     "output_type": "display_data"
    }
   ],
   "source": [
    "display(crawler[\"uuid\"])\n",
    "display(crawler[crawler['name'] == 'UNIVERSAL MUSIC GMBH'])"
   ],
   "metadata": {
    "collapsed": false,
    "ExecuteTime": {
     "end_time": "2023-09-23T13:47:56.582619Z",
     "start_time": "2023-09-23T13:47:56.527336Z"
    }
   },
   "id": "d9523528100a0fd3"
  },
  {
   "cell_type": "code",
   "execution_count": 19,
   "outputs": [
    {
     "name": "stdout",
     "output_type": "stream",
     "text": [
      "b9658ec6-80d1-463d-9533-da212c6ee92c was not found in the list.\n"
     ]
    }
   ],
   "source": [
    "search_value = \"b9658ec6-80d1-463d-9533-da212c6ee92c\"\n",
    "\n",
    "if search_value in crawler[\"uuid\"]:\n",
    "    print(f\"{search_value} was found in the list.\")\n",
    "else:\n",
    "    print(f\"{search_value} was not found in the list.\")"
   ],
   "metadata": {
    "collapsed": false,
    "ExecuteTime": {
     "end_time": "2023-09-23T13:41:27.158205Z",
     "start_time": "2023-09-23T13:41:27.152031Z"
    }
   },
   "id": "fc0972a584ed07fc"
  },
  {
   "cell_type": "code",
   "execution_count": null,
   "outputs": [],
   "source": [],
   "metadata": {
    "collapsed": false
   },
   "id": "6e60147609d367b7"
  }
 ],
 "metadata": {
  "kernelspec": {
   "display_name": "Python 3",
   "language": "python",
   "name": "python3"
  },
  "language_info": {
   "codemirror_mode": {
    "name": "ipython",
    "version": 2
   },
   "file_extension": ".py",
   "mimetype": "text/x-python",
   "name": "python",
   "nbconvert_exporter": "python",
   "pygments_lexer": "ipython2",
   "version": "2.7.6"
  }
 },
 "nbformat": 4,
 "nbformat_minor": 5
}
