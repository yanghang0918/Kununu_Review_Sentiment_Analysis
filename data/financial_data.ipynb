{
 "cells": [
  {
   "cell_type": "code",
   "execution_count": 10,
   "id": "initial_id",
   "metadata": {
    "collapsed": true,
    "ExecuteTime": {
     "end_time": "2023-09-21T13:41:02.589916Z",
     "start_time": "2023-09-21T13:40:51.836141Z"
    }
   },
   "outputs": [
    {
     "name": "stdout",
     "output_type": "stream",
     "text": [
      "<class 'pandas.core.frame.DataFrame'>\n",
      "RangeIndex: 2438957 entries, 0 to 2438956\n",
      "Columns: 135 entries, index to bvd_table\n",
      "dtypes: float64(87), int64(1), object(47)\n",
      "memory usage: 2.5+ GB\n",
      "None\n",
      "    index          idnr currency nat_prim_code nace_prim_code naics_core_code  \\\n",
      "0       0  AT9130090333      EUR        P85320           8532            6111   \n",
      "1       1  AT9010000033      EUR        L68209           6820            5311   \n",
      "2       2  AT9010000033      EUR        L68209           6820            5311   \n",
      "3       3  AT9010000033      EUR        L68209           6820            5311   \n",
      "4       4  AT9010000033      EUR        L68209           6820            5311   \n",
      "5       5  AT9010000033      EUR        L68209           6820            5311   \n",
      "6       6  AT9010000033      EUR        L68209           6820            5311   \n",
      "7       7  AT9010000033      EUR        L68209           6820            5311   \n",
      "8       8  AT9010000033      EUR        L68209           6820            5311   \n",
      "9       9  AT9010000155      EUR        G45190           4519            4231   \n",
      "10     10  AT9010000155      EUR        G45190           4519            4231   \n",
      "11     11  AT9010000155      EUR        G45190           4519            4231   \n",
      "12     12  AT9010000155      EUR        G45190           4519            4231   \n",
      "13     13  AT9010000155      EUR        G45190           4519            4231   \n",
      "14     14  AT9010000155      EUR        G45190           4519            4231   \n",
      "15     15  AT9010000155      EUR        G45190           4519            4231   \n",
      "16     16  AT9010000155      EUR        G45190           4519            4231   \n",
      "17     17  AT9010000166      EUR        C13910           1391            3132   \n",
      "18     18  AT9010000166      EUR        C13910           1391            3132   \n",
      "19     19  AT9010000166      EUR        C13910           1391            3132   \n",
      "\n",
      "   ussic_core_code sd_isin sd_sedol sd_ticker  ...   solr    gear   ppe  \\\n",
      "0              821    None     None      None  ...    NaN     NaN   NaN   \n",
      "1              651    None     None      None  ...  67.48     NaN   NaN   \n",
      "2              651    None     None      None  ...  67.99     NaN   NaN   \n",
      "3              651    None     None      None  ...  76.45     NaN   NaN   \n",
      "4              651    None     None      None  ...  80.01     NaN   NaN   \n",
      "5              651    None     None      None  ...  45.12     NaN  20.0   \n",
      "6              651    None     None      None  ...  48.60  105.76  10.0   \n",
      "7              651    None     None      None  ...  47.08   95.49  17.0   \n",
      "8              651    None     None      None  ...  73.92     NaN   NaN   \n",
      "9              501    None     None      None  ...  14.16     NaN   NaN   \n",
      "10             501    None     None      None  ...  15.34     NaN   NaN   \n",
      "11             501    None     None      None  ...  17.47     NaN   NaN   \n",
      "12             501    None     None      None  ...  28.29  140.36   NaN   \n",
      "13             501    None     None      None  ...  22.27  212.99   NaN   \n",
      "14             501    None     None      None  ...  19.92  238.00   NaN   \n",
      "15             501    None     None      None  ...  19.75  142.47   NaN   \n",
      "16             501    None     None      None  ...  24.07     NaN   NaN   \n",
      "17             225    None     None      None  ...  24.04     NaN   NaN   \n",
      "18             225    None     None      None  ...  20.52     NaN   NaN   \n",
      "19             225    None     None      None  ...  16.78  491.44   NaN   \n",
      "\n",
      "      tpe    sct   ace    sfpe  wcpe    tape  bvd_table  \n",
      "0     NaN    NaN   NaN     NaN   NaN     NaN  amadeus_m  \n",
      "1     NaN    NaN   NaN     NaN   NaN     NaN  amadeus_m  \n",
      "2     NaN    NaN   NaN  6322.0   NaN  9298.0  amadeus_m  \n",
      "3     NaN    NaN   NaN  5671.0   NaN  7419.0  amadeus_m  \n",
      "4     NaN    NaN   NaN     NaN   NaN     NaN  amadeus_m  \n",
      "5   146.0  34.94  51.0   162.0   NaN   360.0  amadeus_m  \n",
      "6     NaN    NaN  56.0   169.0  60.0   348.0  amadeus_m  \n",
      "7     NaN    NaN  59.0   175.0  90.0   371.0  amadeus_m  \n",
      "8     NaN    NaN   NaN  5465.0   NaN  7393.0  amadeus_m  \n",
      "9     NaN    NaN   NaN     NaN   NaN     NaN  amadeus_m  \n",
      "10  178.0    NaN   NaN    10.0   NaN    68.0  amadeus_m  \n",
      "11   70.0    NaN   NaN     5.0   NaN    27.0  amadeus_m  \n",
      "12  185.0    NaN   NaN    16.0  15.0    55.0  amadeus_m  \n",
      "13  215.0    NaN   NaN    19.0  30.0    83.0  amadeus_m  \n",
      "14  205.0    NaN   NaN    18.0  23.0    91.0  amadeus_m  \n",
      "15    NaN    NaN   NaN    17.0  32.0    87.0  amadeus_m  \n",
      "16    NaN    NaN   NaN    24.0   NaN   101.0  amadeus_m  \n",
      "17    NaN  57.40   NaN     NaN   NaN     NaN  amadeus_m  \n",
      "18    NaN  62.48   NaN     NaN   NaN     NaN  amadeus_m  \n",
      "19    NaN    NaN   NaN     NaN   NaN     NaN  amadeus_m  \n",
      "\n",
      "[20 rows x 135 columns]\n"
     ]
    },
    {
     "data": {
      "text/plain": "         index          idnr currency nat_prim_code nace_prim_code  \\\n0            0  AT9130090333      EUR        P85320           8532   \n1            1  AT9010000033      EUR        L68209           6820   \n2            2  AT9010000033      EUR        L68209           6820   \n3            3  AT9010000033      EUR        L68209           6820   \n4            4  AT9010000033      EUR        L68209           6820   \n...        ...           ...      ...           ...            ...   \n2438952  94938  DE8350148522      EUR        C10000           1000   \n2438953  94939  DE8350148522      EUR        C10000           1000   \n2438954  94940  DE8350148522      EUR        C10000           1000   \n2438955  94941  DE8350148522      EUR        C10000           1000   \n2438956  94942  DE8350148522      EUR        C10000           1000   \n\n        naics_core_code ussic_core_code sd_isin sd_sedol sd_ticker  ...  \\\n0                  6111             821    None     None      None  ...   \n1                  5311             651    None     None      None  ...   \n2                  5311             651    None     None      None  ...   \n3                  5311             651    None     None      None  ...   \n4                  5311             651    None     None      None  ...   \n...                 ...             ...     ...      ...       ...  ...   \n2438952             311             200    None     None      None  ...   \n2438953             311             200    None     None      None  ...   \n2438954             311             200    None     None      None  ...   \n2438955             311             200    None     None      None  ...   \n2438956             311             200    None     None      None  ...   \n\n          solr   gear    ppe     tpe   sct   ace    sfpe  wcpe    tape  \\\n0          NaN    NaN    NaN     NaN   NaN   NaN     NaN   NaN     NaN   \n1        67.48    NaN    NaN     NaN   NaN   NaN     NaN   NaN     NaN   \n2        67.99    NaN    NaN     NaN   NaN   NaN  6322.0   NaN  9298.0   \n3        76.45    NaN    NaN     NaN   NaN   NaN  5671.0   NaN  7419.0   \n4        80.01    NaN    NaN     NaN   NaN   NaN     NaN   NaN     NaN   \n...        ...    ...    ...     ...   ...   ...     ...   ...     ...   \n2438952  89.02   5.69  223.0     NaN   NaN  48.0   611.0  13.0   687.0   \n2438953  88.37   4.86  287.0   704.0  6.82  48.0   721.0  11.0   816.0   \n2438954  78.71  16.55  341.0   795.0  6.09  48.0   352.0  21.0   448.0   \n2438955  81.36  16.02  406.0   919.0  5.53  51.0   610.0  37.0   750.0   \n2438956  84.90  12.53  561.0  1129.0  5.03  57.0   966.0  36.0  1138.0   \n\n         bvd_table  \n0        amadeus_m  \n1        amadeus_m  \n2        amadeus_m  \n3        amadeus_m  \n4        amadeus_m  \n...            ...  \n2438952  amadeus_v  \n2438953  amadeus_v  \n2438954  amadeus_v  \n2438955  amadeus_v  \n2438956  amadeus_v  \n\n[2438957 rows x 135 columns]",
      "text/html": "<div>\n<style scoped>\n    .dataframe tbody tr th:only-of-type {\n        vertical-align: middle;\n    }\n\n    .dataframe tbody tr th {\n        vertical-align: top;\n    }\n\n    .dataframe thead th {\n        text-align: right;\n    }\n</style>\n<table border=\"1\" class=\"dataframe\">\n  <thead>\n    <tr style=\"text-align: right;\">\n      <th></th>\n      <th>index</th>\n      <th>idnr</th>\n      <th>currency</th>\n      <th>nat_prim_code</th>\n      <th>nace_prim_code</th>\n      <th>naics_core_code</th>\n      <th>ussic_core_code</th>\n      <th>sd_isin</th>\n      <th>sd_sedol</th>\n      <th>sd_ticker</th>\n      <th>...</th>\n      <th>solr</th>\n      <th>gear</th>\n      <th>ppe</th>\n      <th>tpe</th>\n      <th>sct</th>\n      <th>ace</th>\n      <th>sfpe</th>\n      <th>wcpe</th>\n      <th>tape</th>\n      <th>bvd_table</th>\n    </tr>\n  </thead>\n  <tbody>\n    <tr>\n      <th>0</th>\n      <td>0</td>\n      <td>AT9130090333</td>\n      <td>EUR</td>\n      <td>P85320</td>\n      <td>8532</td>\n      <td>6111</td>\n      <td>821</td>\n      <td>None</td>\n      <td>None</td>\n      <td>None</td>\n      <td>...</td>\n      <td>NaN</td>\n      <td>NaN</td>\n      <td>NaN</td>\n      <td>NaN</td>\n      <td>NaN</td>\n      <td>NaN</td>\n      <td>NaN</td>\n      <td>NaN</td>\n      <td>NaN</td>\n      <td>amadeus_m</td>\n    </tr>\n    <tr>\n      <th>1</th>\n      <td>1</td>\n      <td>AT9010000033</td>\n      <td>EUR</td>\n      <td>L68209</td>\n      <td>6820</td>\n      <td>5311</td>\n      <td>651</td>\n      <td>None</td>\n      <td>None</td>\n      <td>None</td>\n      <td>...</td>\n      <td>67.48</td>\n      <td>NaN</td>\n      <td>NaN</td>\n      <td>NaN</td>\n      <td>NaN</td>\n      <td>NaN</td>\n      <td>NaN</td>\n      <td>NaN</td>\n      <td>NaN</td>\n      <td>amadeus_m</td>\n    </tr>\n    <tr>\n      <th>2</th>\n      <td>2</td>\n      <td>AT9010000033</td>\n      <td>EUR</td>\n      <td>L68209</td>\n      <td>6820</td>\n      <td>5311</td>\n      <td>651</td>\n      <td>None</td>\n      <td>None</td>\n      <td>None</td>\n      <td>...</td>\n      <td>67.99</td>\n      <td>NaN</td>\n      <td>NaN</td>\n      <td>NaN</td>\n      <td>NaN</td>\n      <td>NaN</td>\n      <td>6322.0</td>\n      <td>NaN</td>\n      <td>9298.0</td>\n      <td>amadeus_m</td>\n    </tr>\n    <tr>\n      <th>3</th>\n      <td>3</td>\n      <td>AT9010000033</td>\n      <td>EUR</td>\n      <td>L68209</td>\n      <td>6820</td>\n      <td>5311</td>\n      <td>651</td>\n      <td>None</td>\n      <td>None</td>\n      <td>None</td>\n      <td>...</td>\n      <td>76.45</td>\n      <td>NaN</td>\n      <td>NaN</td>\n      <td>NaN</td>\n      <td>NaN</td>\n      <td>NaN</td>\n      <td>5671.0</td>\n      <td>NaN</td>\n      <td>7419.0</td>\n      <td>amadeus_m</td>\n    </tr>\n    <tr>\n      <th>4</th>\n      <td>4</td>\n      <td>AT9010000033</td>\n      <td>EUR</td>\n      <td>L68209</td>\n      <td>6820</td>\n      <td>5311</td>\n      <td>651</td>\n      <td>None</td>\n      <td>None</td>\n      <td>None</td>\n      <td>...</td>\n      <td>80.01</td>\n      <td>NaN</td>\n      <td>NaN</td>\n      <td>NaN</td>\n      <td>NaN</td>\n      <td>NaN</td>\n      <td>NaN</td>\n      <td>NaN</td>\n      <td>NaN</td>\n      <td>amadeus_m</td>\n    </tr>\n    <tr>\n      <th>...</th>\n      <td>...</td>\n      <td>...</td>\n      <td>...</td>\n      <td>...</td>\n      <td>...</td>\n      <td>...</td>\n      <td>...</td>\n      <td>...</td>\n      <td>...</td>\n      <td>...</td>\n      <td>...</td>\n      <td>...</td>\n      <td>...</td>\n      <td>...</td>\n      <td>...</td>\n      <td>...</td>\n      <td>...</td>\n      <td>...</td>\n      <td>...</td>\n      <td>...</td>\n      <td>...</td>\n    </tr>\n    <tr>\n      <th>2438952</th>\n      <td>94938</td>\n      <td>DE8350148522</td>\n      <td>EUR</td>\n      <td>C10000</td>\n      <td>1000</td>\n      <td>311</td>\n      <td>200</td>\n      <td>None</td>\n      <td>None</td>\n      <td>None</td>\n      <td>...</td>\n      <td>89.02</td>\n      <td>5.69</td>\n      <td>223.0</td>\n      <td>NaN</td>\n      <td>NaN</td>\n      <td>48.0</td>\n      <td>611.0</td>\n      <td>13.0</td>\n      <td>687.0</td>\n      <td>amadeus_v</td>\n    </tr>\n    <tr>\n      <th>2438953</th>\n      <td>94939</td>\n      <td>DE8350148522</td>\n      <td>EUR</td>\n      <td>C10000</td>\n      <td>1000</td>\n      <td>311</td>\n      <td>200</td>\n      <td>None</td>\n      <td>None</td>\n      <td>None</td>\n      <td>...</td>\n      <td>88.37</td>\n      <td>4.86</td>\n      <td>287.0</td>\n      <td>704.0</td>\n      <td>6.82</td>\n      <td>48.0</td>\n      <td>721.0</td>\n      <td>11.0</td>\n      <td>816.0</td>\n      <td>amadeus_v</td>\n    </tr>\n    <tr>\n      <th>2438954</th>\n      <td>94940</td>\n      <td>DE8350148522</td>\n      <td>EUR</td>\n      <td>C10000</td>\n      <td>1000</td>\n      <td>311</td>\n      <td>200</td>\n      <td>None</td>\n      <td>None</td>\n      <td>None</td>\n      <td>...</td>\n      <td>78.71</td>\n      <td>16.55</td>\n      <td>341.0</td>\n      <td>795.0</td>\n      <td>6.09</td>\n      <td>48.0</td>\n      <td>352.0</td>\n      <td>21.0</td>\n      <td>448.0</td>\n      <td>amadeus_v</td>\n    </tr>\n    <tr>\n      <th>2438955</th>\n      <td>94941</td>\n      <td>DE8350148522</td>\n      <td>EUR</td>\n      <td>C10000</td>\n      <td>1000</td>\n      <td>311</td>\n      <td>200</td>\n      <td>None</td>\n      <td>None</td>\n      <td>None</td>\n      <td>...</td>\n      <td>81.36</td>\n      <td>16.02</td>\n      <td>406.0</td>\n      <td>919.0</td>\n      <td>5.53</td>\n      <td>51.0</td>\n      <td>610.0</td>\n      <td>37.0</td>\n      <td>750.0</td>\n      <td>amadeus_v</td>\n    </tr>\n    <tr>\n      <th>2438956</th>\n      <td>94942</td>\n      <td>DE8350148522</td>\n      <td>EUR</td>\n      <td>C10000</td>\n      <td>1000</td>\n      <td>311</td>\n      <td>200</td>\n      <td>None</td>\n      <td>None</td>\n      <td>None</td>\n      <td>...</td>\n      <td>84.90</td>\n      <td>12.53</td>\n      <td>561.0</td>\n      <td>1129.0</td>\n      <td>5.03</td>\n      <td>57.0</td>\n      <td>966.0</td>\n      <td>36.0</td>\n      <td>1138.0</td>\n      <td>amadeus_v</td>\n    </tr>\n  </tbody>\n</table>\n<p>2438957 rows × 135 columns</p>\n</div>"
     },
     "metadata": {},
     "output_type": "display_data"
    }
   ],
   "source": [
    "import pandas as pd\n",
    "\n",
    "file_path = \"/Users/alexanderprinz/Downloads/financials.feather\"\n",
    "findata = pd.read_feather(file_path)\n",
    "print(findata.info())\n",
    "print(findata.head(20))\n",
    "\n",
    "display(findata)"
   ]
  },
  {
   "cell_type": "code",
   "execution_count": 12,
   "outputs": [],
   "source": [
    "reviews = pd.read_csv(\"reviews.csv\")\n",
    "unique_company_IDs_20K = reviews['company_uuid'].unique()"
   ],
   "metadata": {
    "collapsed": false,
    "ExecuteTime": {
     "end_time": "2023-09-21T13:43:27.880954Z",
     "start_time": "2023-09-21T13:43:27.345712Z"
    }
   },
   "id": "f277cfef9ec674a2"
  },
  {
   "cell_type": "code",
   "execution_count": 13,
   "outputs": [
    {
     "ename": "KeyError",
     "evalue": "'company_uuid'",
     "output_type": "error",
     "traceback": [
      "\u001B[0;31m---------------------------------------------------------------------------\u001B[0m",
      "\u001B[0;31mKeyError\u001B[0m                                  Traceback (most recent call last)",
      "File \u001B[0;32m~/opt/anaconda3/lib/python3.9/site-packages/pandas/core/indexes/base.py:3802\u001B[0m, in \u001B[0;36mIndex.get_loc\u001B[0;34m(self, key, method, tolerance)\u001B[0m\n\u001B[1;32m   3801\u001B[0m \u001B[38;5;28;01mtry\u001B[39;00m:\n\u001B[0;32m-> 3802\u001B[0m     \u001B[38;5;28;01mreturn\u001B[39;00m \u001B[38;5;28;43mself\u001B[39;49m\u001B[38;5;241;43m.\u001B[39;49m\u001B[43m_engine\u001B[49m\u001B[38;5;241;43m.\u001B[39;49m\u001B[43mget_loc\u001B[49m\u001B[43m(\u001B[49m\u001B[43mcasted_key\u001B[49m\u001B[43m)\u001B[49m\n\u001B[1;32m   3803\u001B[0m \u001B[38;5;28;01mexcept\u001B[39;00m \u001B[38;5;167;01mKeyError\u001B[39;00m \u001B[38;5;28;01mas\u001B[39;00m err:\n",
      "File \u001B[0;32m~/opt/anaconda3/lib/python3.9/site-packages/pandas/_libs/index.pyx:138\u001B[0m, in \u001B[0;36mpandas._libs.index.IndexEngine.get_loc\u001B[0;34m()\u001B[0m\n",
      "File \u001B[0;32m~/opt/anaconda3/lib/python3.9/site-packages/pandas/_libs/index.pyx:165\u001B[0m, in \u001B[0;36mpandas._libs.index.IndexEngine.get_loc\u001B[0;34m()\u001B[0m\n",
      "File \u001B[0;32mpandas/_libs/hashtable_class_helper.pxi:5745\u001B[0m, in \u001B[0;36mpandas._libs.hashtable.PyObjectHashTable.get_item\u001B[0;34m()\u001B[0m\n",
      "File \u001B[0;32mpandas/_libs/hashtable_class_helper.pxi:5753\u001B[0m, in \u001B[0;36mpandas._libs.hashtable.PyObjectHashTable.get_item\u001B[0;34m()\u001B[0m\n",
      "\u001B[0;31mKeyError\u001B[0m: 'company_uuid'",
      "\nThe above exception was the direct cause of the following exception:\n",
      "\u001B[0;31mKeyError\u001B[0m                                  Traceback (most recent call last)",
      "Input \u001B[0;32mIn [13]\u001B[0m, in \u001B[0;36m<cell line: 1>\u001B[0;34m()\u001B[0m\n\u001B[0;32m----> 1\u001B[0m \u001B[43mfindata\u001B[49m\u001B[43m[\u001B[49m\u001B[38;5;124;43m\"\u001B[39;49m\u001B[38;5;124;43mcompany_uuid\u001B[39;49m\u001B[38;5;124;43m\"\u001B[39;49m\u001B[43m]\u001B[49m\n",
      "File \u001B[0;32m~/opt/anaconda3/lib/python3.9/site-packages/pandas/core/frame.py:3807\u001B[0m, in \u001B[0;36mDataFrame.__getitem__\u001B[0;34m(self, key)\u001B[0m\n\u001B[1;32m   3805\u001B[0m \u001B[38;5;28;01mif\u001B[39;00m \u001B[38;5;28mself\u001B[39m\u001B[38;5;241m.\u001B[39mcolumns\u001B[38;5;241m.\u001B[39mnlevels \u001B[38;5;241m>\u001B[39m \u001B[38;5;241m1\u001B[39m:\n\u001B[1;32m   3806\u001B[0m     \u001B[38;5;28;01mreturn\u001B[39;00m \u001B[38;5;28mself\u001B[39m\u001B[38;5;241m.\u001B[39m_getitem_multilevel(key)\n\u001B[0;32m-> 3807\u001B[0m indexer \u001B[38;5;241m=\u001B[39m \u001B[38;5;28;43mself\u001B[39;49m\u001B[38;5;241;43m.\u001B[39;49m\u001B[43mcolumns\u001B[49m\u001B[38;5;241;43m.\u001B[39;49m\u001B[43mget_loc\u001B[49m\u001B[43m(\u001B[49m\u001B[43mkey\u001B[49m\u001B[43m)\u001B[49m\n\u001B[1;32m   3808\u001B[0m \u001B[38;5;28;01mif\u001B[39;00m is_integer(indexer):\n\u001B[1;32m   3809\u001B[0m     indexer \u001B[38;5;241m=\u001B[39m [indexer]\n",
      "File \u001B[0;32m~/opt/anaconda3/lib/python3.9/site-packages/pandas/core/indexes/base.py:3804\u001B[0m, in \u001B[0;36mIndex.get_loc\u001B[0;34m(self, key, method, tolerance)\u001B[0m\n\u001B[1;32m   3802\u001B[0m     \u001B[38;5;28;01mreturn\u001B[39;00m \u001B[38;5;28mself\u001B[39m\u001B[38;5;241m.\u001B[39m_engine\u001B[38;5;241m.\u001B[39mget_loc(casted_key)\n\u001B[1;32m   3803\u001B[0m \u001B[38;5;28;01mexcept\u001B[39;00m \u001B[38;5;167;01mKeyError\u001B[39;00m \u001B[38;5;28;01mas\u001B[39;00m err:\n\u001B[0;32m-> 3804\u001B[0m     \u001B[38;5;28;01mraise\u001B[39;00m \u001B[38;5;167;01mKeyError\u001B[39;00m(key) \u001B[38;5;28;01mfrom\u001B[39;00m \u001B[38;5;21;01merr\u001B[39;00m\n\u001B[1;32m   3805\u001B[0m \u001B[38;5;28;01mexcept\u001B[39;00m \u001B[38;5;167;01mTypeError\u001B[39;00m:\n\u001B[1;32m   3806\u001B[0m     \u001B[38;5;66;03m# If we have a listlike key, _check_indexing_error will raise\u001B[39;00m\n\u001B[1;32m   3807\u001B[0m     \u001B[38;5;66;03m#  InvalidIndexError. Otherwise we fall through and re-raise\u001B[39;00m\n\u001B[1;32m   3808\u001B[0m     \u001B[38;5;66;03m#  the TypeError.\u001B[39;00m\n\u001B[1;32m   3809\u001B[0m     \u001B[38;5;28mself\u001B[39m\u001B[38;5;241m.\u001B[39m_check_indexing_error(key)\n",
      "\u001B[0;31mKeyError\u001B[0m: 'company_uuid'"
     ]
    }
   ],
   "source": [
    "findata[\"company_uuid\"]"
   ],
   "metadata": {
    "collapsed": false,
    "ExecuteTime": {
     "end_time": "2023-09-21T13:43:38.311232Z",
     "start_time": "2023-09-21T13:43:38.295515Z"
    }
   },
   "id": "29062dc814555047"
  },
  {
   "cell_type": "code",
   "execution_count": 20,
   "outputs": [
    {
     "data": {
      "text/plain": "               fias     ifas        tfas        ofas        cuas       stok  \\\n0               NaN      NaN         NaN         NaN         NaN        NaN   \n1         8248509.0  64987.0   6393482.0   1790040.0    993076.0        0.0   \n2         8096843.0  43325.0   6263478.0   1790040.0   1201506.0        0.0   \n3         6663558.0      0.0   5130694.0   1532864.0    755000.0        0.0   \n4         6545364.0  86650.0   4904674.0   1554040.0    904014.0        0.0   \n...             ...      ...         ...         ...         ...        ...   \n2438952  34003895.0   2960.0   4870068.0  29130866.0  15424875.0   936234.0   \n2438953  38514154.0   5541.0   5069816.0  33438797.0  30808150.0   976405.0   \n2438954  25528939.0  98263.0   6829689.0  18600987.0  21032711.0  1366753.0   \n2438955  53395718.0  55864.0  10484064.0  42855790.0  32813897.0  1436115.0   \n2438956  75081918.0  11383.0  10074429.0  64996107.0  60382891.0  2217223.0   \n\n              debt        ocas        cash         toas  ...   shlq   solr  \\\n0              NaN         NaN         NaN          NaN  ...    NaN    NaN   \n1              0.0    993076.0    295860.0    9241586.0  ...   2.08  67.48   \n2              0.0   1201506.0    631984.0    9298349.0  ...   2.12  67.99   \n3              0.0    755000.0    183739.0    7418557.0  ...   3.25  76.45   \n4              0.0    904014.0    231555.0    7449378.0  ...   4.00  80.01   \n...            ...         ...         ...          ...  ...    ...    ...   \n2438952        0.0  14488641.0   6370839.0   49428770.0  ...  17.58  89.02   \n2438953  1741017.0  28090728.0  20078009.0   69322304.0  ...  20.60  88.37   \n2438954  2619266.0  17046692.0  15864343.0   46561650.0  ...   6.04  78.71   \n2438955  3413019.0  27964763.0  26573465.0   86209615.0  ...   6.24  81.36   \n2438956  3364769.0  54800899.0  52143518.0  135464809.0  ...   7.98  84.90   \n\n          gear    ppe     tpe   sct   ace    sfpe  wcpe    tape  \n0          NaN    NaN     NaN   NaN   NaN     NaN   NaN     NaN  \n1          NaN    NaN     NaN   NaN   NaN     NaN   NaN     NaN  \n2          NaN    NaN     NaN   NaN   NaN  6322.0   NaN  9298.0  \n3          NaN    NaN     NaN   NaN   NaN  5671.0   NaN  7419.0  \n4          NaN    NaN     NaN   NaN   NaN     NaN   NaN     NaN  \n...        ...    ...     ...   ...   ...     ...   ...     ...  \n2438952   5.69  223.0     NaN   NaN  48.0   611.0  13.0   687.0  \n2438953   4.86  287.0   704.0  6.82  48.0   721.0  11.0   816.0  \n2438954  16.55  341.0   795.0  6.09  48.0   352.0  21.0   448.0  \n2438955  16.02  406.0   919.0  5.53  51.0   610.0  37.0   750.0  \n2438956  12.53  561.0  1129.0  5.03  57.0   966.0  36.0  1138.0  \n\n[2438957 rows x 78 columns]",
      "text/html": "<div>\n<style scoped>\n    .dataframe tbody tr th:only-of-type {\n        vertical-align: middle;\n    }\n\n    .dataframe tbody tr th {\n        vertical-align: top;\n    }\n\n    .dataframe thead th {\n        text-align: right;\n    }\n</style>\n<table border=\"1\" class=\"dataframe\">\n  <thead>\n    <tr style=\"text-align: right;\">\n      <th></th>\n      <th>fias</th>\n      <th>ifas</th>\n      <th>tfas</th>\n      <th>ofas</th>\n      <th>cuas</th>\n      <th>stok</th>\n      <th>debt</th>\n      <th>ocas</th>\n      <th>cash</th>\n      <th>toas</th>\n      <th>...</th>\n      <th>shlq</th>\n      <th>solr</th>\n      <th>gear</th>\n      <th>ppe</th>\n      <th>tpe</th>\n      <th>sct</th>\n      <th>ace</th>\n      <th>sfpe</th>\n      <th>wcpe</th>\n      <th>tape</th>\n    </tr>\n  </thead>\n  <tbody>\n    <tr>\n      <th>0</th>\n      <td>NaN</td>\n      <td>NaN</td>\n      <td>NaN</td>\n      <td>NaN</td>\n      <td>NaN</td>\n      <td>NaN</td>\n      <td>NaN</td>\n      <td>NaN</td>\n      <td>NaN</td>\n      <td>NaN</td>\n      <td>...</td>\n      <td>NaN</td>\n      <td>NaN</td>\n      <td>NaN</td>\n      <td>NaN</td>\n      <td>NaN</td>\n      <td>NaN</td>\n      <td>NaN</td>\n      <td>NaN</td>\n      <td>NaN</td>\n      <td>NaN</td>\n    </tr>\n    <tr>\n      <th>1</th>\n      <td>8248509.0</td>\n      <td>64987.0</td>\n      <td>6393482.0</td>\n      <td>1790040.0</td>\n      <td>993076.0</td>\n      <td>0.0</td>\n      <td>0.0</td>\n      <td>993076.0</td>\n      <td>295860.0</td>\n      <td>9241586.0</td>\n      <td>...</td>\n      <td>2.08</td>\n      <td>67.48</td>\n      <td>NaN</td>\n      <td>NaN</td>\n      <td>NaN</td>\n      <td>NaN</td>\n      <td>NaN</td>\n      <td>NaN</td>\n      <td>NaN</td>\n      <td>NaN</td>\n    </tr>\n    <tr>\n      <th>2</th>\n      <td>8096843.0</td>\n      <td>43325.0</td>\n      <td>6263478.0</td>\n      <td>1790040.0</td>\n      <td>1201506.0</td>\n      <td>0.0</td>\n      <td>0.0</td>\n      <td>1201506.0</td>\n      <td>631984.0</td>\n      <td>9298349.0</td>\n      <td>...</td>\n      <td>2.12</td>\n      <td>67.99</td>\n      <td>NaN</td>\n      <td>NaN</td>\n      <td>NaN</td>\n      <td>NaN</td>\n      <td>NaN</td>\n      <td>6322.0</td>\n      <td>NaN</td>\n      <td>9298.0</td>\n    </tr>\n    <tr>\n      <th>3</th>\n      <td>6663558.0</td>\n      <td>0.0</td>\n      <td>5130694.0</td>\n      <td>1532864.0</td>\n      <td>755000.0</td>\n      <td>0.0</td>\n      <td>0.0</td>\n      <td>755000.0</td>\n      <td>183739.0</td>\n      <td>7418557.0</td>\n      <td>...</td>\n      <td>3.25</td>\n      <td>76.45</td>\n      <td>NaN</td>\n      <td>NaN</td>\n      <td>NaN</td>\n      <td>NaN</td>\n      <td>NaN</td>\n      <td>5671.0</td>\n      <td>NaN</td>\n      <td>7419.0</td>\n    </tr>\n    <tr>\n      <th>4</th>\n      <td>6545364.0</td>\n      <td>86650.0</td>\n      <td>4904674.0</td>\n      <td>1554040.0</td>\n      <td>904014.0</td>\n      <td>0.0</td>\n      <td>0.0</td>\n      <td>904014.0</td>\n      <td>231555.0</td>\n      <td>7449378.0</td>\n      <td>...</td>\n      <td>4.00</td>\n      <td>80.01</td>\n      <td>NaN</td>\n      <td>NaN</td>\n      <td>NaN</td>\n      <td>NaN</td>\n      <td>NaN</td>\n      <td>NaN</td>\n      <td>NaN</td>\n      <td>NaN</td>\n    </tr>\n    <tr>\n      <th>...</th>\n      <td>...</td>\n      <td>...</td>\n      <td>...</td>\n      <td>...</td>\n      <td>...</td>\n      <td>...</td>\n      <td>...</td>\n      <td>...</td>\n      <td>...</td>\n      <td>...</td>\n      <td>...</td>\n      <td>...</td>\n      <td>...</td>\n      <td>...</td>\n      <td>...</td>\n      <td>...</td>\n      <td>...</td>\n      <td>...</td>\n      <td>...</td>\n      <td>...</td>\n      <td>...</td>\n    </tr>\n    <tr>\n      <th>2438952</th>\n      <td>34003895.0</td>\n      <td>2960.0</td>\n      <td>4870068.0</td>\n      <td>29130866.0</td>\n      <td>15424875.0</td>\n      <td>936234.0</td>\n      <td>0.0</td>\n      <td>14488641.0</td>\n      <td>6370839.0</td>\n      <td>49428770.0</td>\n      <td>...</td>\n      <td>17.58</td>\n      <td>89.02</td>\n      <td>5.69</td>\n      <td>223.0</td>\n      <td>NaN</td>\n      <td>NaN</td>\n      <td>48.0</td>\n      <td>611.0</td>\n      <td>13.0</td>\n      <td>687.0</td>\n    </tr>\n    <tr>\n      <th>2438953</th>\n      <td>38514154.0</td>\n      <td>5541.0</td>\n      <td>5069816.0</td>\n      <td>33438797.0</td>\n      <td>30808150.0</td>\n      <td>976405.0</td>\n      <td>1741017.0</td>\n      <td>28090728.0</td>\n      <td>20078009.0</td>\n      <td>69322304.0</td>\n      <td>...</td>\n      <td>20.60</td>\n      <td>88.37</td>\n      <td>4.86</td>\n      <td>287.0</td>\n      <td>704.0</td>\n      <td>6.82</td>\n      <td>48.0</td>\n      <td>721.0</td>\n      <td>11.0</td>\n      <td>816.0</td>\n    </tr>\n    <tr>\n      <th>2438954</th>\n      <td>25528939.0</td>\n      <td>98263.0</td>\n      <td>6829689.0</td>\n      <td>18600987.0</td>\n      <td>21032711.0</td>\n      <td>1366753.0</td>\n      <td>2619266.0</td>\n      <td>17046692.0</td>\n      <td>15864343.0</td>\n      <td>46561650.0</td>\n      <td>...</td>\n      <td>6.04</td>\n      <td>78.71</td>\n      <td>16.55</td>\n      <td>341.0</td>\n      <td>795.0</td>\n      <td>6.09</td>\n      <td>48.0</td>\n      <td>352.0</td>\n      <td>21.0</td>\n      <td>448.0</td>\n    </tr>\n    <tr>\n      <th>2438955</th>\n      <td>53395718.0</td>\n      <td>55864.0</td>\n      <td>10484064.0</td>\n      <td>42855790.0</td>\n      <td>32813897.0</td>\n      <td>1436115.0</td>\n      <td>3413019.0</td>\n      <td>27964763.0</td>\n      <td>26573465.0</td>\n      <td>86209615.0</td>\n      <td>...</td>\n      <td>6.24</td>\n      <td>81.36</td>\n      <td>16.02</td>\n      <td>406.0</td>\n      <td>919.0</td>\n      <td>5.53</td>\n      <td>51.0</td>\n      <td>610.0</td>\n      <td>37.0</td>\n      <td>750.0</td>\n    </tr>\n    <tr>\n      <th>2438956</th>\n      <td>75081918.0</td>\n      <td>11383.0</td>\n      <td>10074429.0</td>\n      <td>64996107.0</td>\n      <td>60382891.0</td>\n      <td>2217223.0</td>\n      <td>3364769.0</td>\n      <td>54800899.0</td>\n      <td>52143518.0</td>\n      <td>135464809.0</td>\n      <td>...</td>\n      <td>7.98</td>\n      <td>84.90</td>\n      <td>12.53</td>\n      <td>561.0</td>\n      <td>1129.0</td>\n      <td>5.03</td>\n      <td>57.0</td>\n      <td>966.0</td>\n      <td>36.0</td>\n      <td>1138.0</td>\n    </tr>\n  </tbody>\n</table>\n<p>2438957 rows × 78 columns</p>\n</div>"
     },
     "metadata": {},
     "output_type": "display_data"
    }
   ],
   "source": [
    "columns_to_correlate = findata.iloc[:, 56:-1]\n",
    "display(columns_to_correlate)"
   ],
   "metadata": {
    "collapsed": false,
    "ExecuteTime": {
     "end_time": "2023-09-22T08:50:52.809529Z",
     "start_time": "2023-09-22T08:50:51.936695Z"
    }
   },
   "id": "9f6d03e47cd8d063"
  },
  {
   "cell_type": "code",
   "execution_count": null,
   "outputs": [],
   "source": [],
   "metadata": {
    "collapsed": false
   },
   "id": "6a9efcbd5238116c"
  }
 ],
 "metadata": {
  "kernelspec": {
   "display_name": "Python 3",
   "language": "python",
   "name": "python3"
  },
  "language_info": {
   "codemirror_mode": {
    "name": "ipython",
    "version": 2
   },
   "file_extension": ".py",
   "mimetype": "text/x-python",
   "name": "python",
   "nbconvert_exporter": "python",
   "pygments_lexer": "ipython2",
   "version": "2.7.6"
  }
 },
 "nbformat": 4,
 "nbformat_minor": 5
}
