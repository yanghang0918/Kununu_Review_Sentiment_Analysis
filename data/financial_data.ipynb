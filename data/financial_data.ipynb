{
 "cells": [
  {
   "cell_type": "code",
   "execution_count": 95,
   "outputs": [],
   "source": [
    "import pandas as pd\n",
    "import numpy as np\n",
    "import matplotlib.pyplot as plt"
   ],
   "metadata": {
    "collapsed": false,
    "ExecuteTime": {
     "end_time": "2023-09-23T17:29:01.253179Z",
     "start_time": "2023-09-23T17:29:01.126112Z"
    }
   },
   "id": "a756b5202dab45a6"
  },
  {
   "cell_type": "code",
   "execution_count": 96,
   "outputs": [
    {
     "name": "stdout",
     "output_type": "stream",
     "text": [
      "<class 'pandas.core.frame.DataFrame'>\n",
      "RangeIndex: 2438957 entries, 0 to 2438956\n",
      "Columns: 135 entries, index to bvd_table\n",
      "dtypes: float64(87), int64(1), object(47)\n",
      "memory usage: 2.5+ GB\n",
      "None\n",
      "    index          idnr currency nat_prim_code nace_prim_code naics_core_code  \\\n",
      "0       0  AT9130090333      EUR        P85320           8532            6111   \n",
      "1       1  AT9010000033      EUR        L68209           6820            5311   \n",
      "2       2  AT9010000033      EUR        L68209           6820            5311   \n",
      "3       3  AT9010000033      EUR        L68209           6820            5311   \n",
      "4       4  AT9010000033      EUR        L68209           6820            5311   \n",
      "5       5  AT9010000033      EUR        L68209           6820            5311   \n",
      "6       6  AT9010000033      EUR        L68209           6820            5311   \n",
      "7       7  AT9010000033      EUR        L68209           6820            5311   \n",
      "8       8  AT9010000033      EUR        L68209           6820            5311   \n",
      "9       9  AT9010000155      EUR        G45190           4519            4231   \n",
      "10     10  AT9010000155      EUR        G45190           4519            4231   \n",
      "11     11  AT9010000155      EUR        G45190           4519            4231   \n",
      "12     12  AT9010000155      EUR        G45190           4519            4231   \n",
      "13     13  AT9010000155      EUR        G45190           4519            4231   \n",
      "14     14  AT9010000155      EUR        G45190           4519            4231   \n",
      "15     15  AT9010000155      EUR        G45190           4519            4231   \n",
      "16     16  AT9010000155      EUR        G45190           4519            4231   \n",
      "17     17  AT9010000166      EUR        C13910           1391            3132   \n",
      "18     18  AT9010000166      EUR        C13910           1391            3132   \n",
      "19     19  AT9010000166      EUR        C13910           1391            3132   \n",
      "\n",
      "   ussic_core_code sd_isin sd_sedol sd_ticker  ...   solr    gear   ppe  \\\n",
      "0              821    None     None      None  ...    NaN     NaN   NaN   \n",
      "1              651    None     None      None  ...  67.48     NaN   NaN   \n",
      "2              651    None     None      None  ...  67.99     NaN   NaN   \n",
      "3              651    None     None      None  ...  76.45     NaN   NaN   \n",
      "4              651    None     None      None  ...  80.01     NaN   NaN   \n",
      "5              651    None     None      None  ...  45.12     NaN  20.0   \n",
      "6              651    None     None      None  ...  48.60  105.76  10.0   \n",
      "7              651    None     None      None  ...  47.08   95.49  17.0   \n",
      "8              651    None     None      None  ...  73.92     NaN   NaN   \n",
      "9              501    None     None      None  ...  14.16     NaN   NaN   \n",
      "10             501    None     None      None  ...  15.34     NaN   NaN   \n",
      "11             501    None     None      None  ...  17.47     NaN   NaN   \n",
      "12             501    None     None      None  ...  28.29  140.36   NaN   \n",
      "13             501    None     None      None  ...  22.27  212.99   NaN   \n",
      "14             501    None     None      None  ...  19.92  238.00   NaN   \n",
      "15             501    None     None      None  ...  19.75  142.47   NaN   \n",
      "16             501    None     None      None  ...  24.07     NaN   NaN   \n",
      "17             225    None     None      None  ...  24.04     NaN   NaN   \n",
      "18             225    None     None      None  ...  20.52     NaN   NaN   \n",
      "19             225    None     None      None  ...  16.78  491.44   NaN   \n",
      "\n",
      "      tpe    sct   ace    sfpe  wcpe    tape  bvd_table  \n",
      "0     NaN    NaN   NaN     NaN   NaN     NaN  amadeus_m  \n",
      "1     NaN    NaN   NaN     NaN   NaN     NaN  amadeus_m  \n",
      "2     NaN    NaN   NaN  6322.0   NaN  9298.0  amadeus_m  \n",
      "3     NaN    NaN   NaN  5671.0   NaN  7419.0  amadeus_m  \n",
      "4     NaN    NaN   NaN     NaN   NaN     NaN  amadeus_m  \n",
      "5   146.0  34.94  51.0   162.0   NaN   360.0  amadeus_m  \n",
      "6     NaN    NaN  56.0   169.0  60.0   348.0  amadeus_m  \n",
      "7     NaN    NaN  59.0   175.0  90.0   371.0  amadeus_m  \n",
      "8     NaN    NaN   NaN  5465.0   NaN  7393.0  amadeus_m  \n",
      "9     NaN    NaN   NaN     NaN   NaN     NaN  amadeus_m  \n",
      "10  178.0    NaN   NaN    10.0   NaN    68.0  amadeus_m  \n",
      "11   70.0    NaN   NaN     5.0   NaN    27.0  amadeus_m  \n",
      "12  185.0    NaN   NaN    16.0  15.0    55.0  amadeus_m  \n",
      "13  215.0    NaN   NaN    19.0  30.0    83.0  amadeus_m  \n",
      "14  205.0    NaN   NaN    18.0  23.0    91.0  amadeus_m  \n",
      "15    NaN    NaN   NaN    17.0  32.0    87.0  amadeus_m  \n",
      "16    NaN    NaN   NaN    24.0   NaN   101.0  amadeus_m  \n",
      "17    NaN  57.40   NaN     NaN   NaN     NaN  amadeus_m  \n",
      "18    NaN  62.48   NaN     NaN   NaN     NaN  amadeus_m  \n",
      "19    NaN    NaN   NaN     NaN   NaN     NaN  amadeus_m  \n",
      "\n",
      "[20 rows x 135 columns]\n"
     ]
    }
   ],
   "source": [
    "file_path = \"/Users/alexanderprinz/Downloads/financials.feather\"\n",
    "findata = pd.read_feather(file_path)\n",
    "print(findata.info())\n",
    "print(findata.head(20))"
   ],
   "metadata": {
    "collapsed": false,
    "ExecuteTime": {
     "end_time": "2023-09-23T17:29:16.788769Z",
     "start_time": "2023-09-23T17:29:04.452477Z"
    }
   },
   "id": "initial_id"
  },
  {
   "cell_type": "code",
   "execution_count": 148,
   "outputs": [
    {
     "data": {
      "text/plain": "         index          idnr currency nat_prim_code nace_prim_code  \\\n0            0  AT9130090333      EUR        P85320           8532   \n1            1  AT9010000033      EUR        L68209           6820   \n2            2  AT9010000033      EUR        L68209           6820   \n3            3  AT9010000033      EUR        L68209           6820   \n4            4  AT9010000033      EUR        L68209           6820   \n...        ...           ...      ...           ...            ...   \n2438952  94938  DE8350148522      EUR        C10000           1000   \n2438953  94939  DE8350148522      EUR        C10000           1000   \n2438954  94940  DE8350148522      EUR        C10000           1000   \n2438955  94941  DE8350148522      EUR        C10000           1000   \n2438956  94942  DE8350148522      EUR        C10000           1000   \n\n        naics_core_code ussic_core_code sd_isin sd_sedol sd_ticker  ...  \\\n0                  6111             821    None     None      None  ...   \n1                  5311             651    None     None      None  ...   \n2                  5311             651    None     None      None  ...   \n3                  5311             651    None     None      None  ...   \n4                  5311             651    None     None      None  ...   \n...                 ...             ...     ...      ...       ...  ...   \n2438952             311             200    None     None      None  ...   \n2438953             311             200    None     None      None  ...   \n2438954             311             200    None     None      None  ...   \n2438955             311             200    None     None      None  ...   \n2438956             311             200    None     None      None  ...   \n\n          gear    ppe     tpe   sct   ace    sfpe  wcpe    tape  bvd_table  \\\n0          NaN    NaN     NaN   NaN   NaN     NaN   NaN     NaN  amadeus_m   \n1          NaN    NaN     NaN   NaN   NaN     NaN   NaN     NaN  amadeus_m   \n2          NaN    NaN     NaN   NaN   NaN  6322.0   NaN  9298.0  amadeus_m   \n3          NaN    NaN     NaN   NaN   NaN  5671.0   NaN  7419.0  amadeus_m   \n4          NaN    NaN     NaN   NaN   NaN     NaN   NaN     NaN  amadeus_m   \n...        ...    ...     ...   ...   ...     ...   ...     ...        ...   \n2438952  -5.69  223.0     NaN   NaN  48.0   611.0  13.0   687.0  amadeus_v   \n2438953  -4.86  287.0   704.0  6.82  48.0   721.0  11.0   816.0  amadeus_v   \n2438954 -16.55  341.0   795.0  6.09  48.0   352.0  21.0   448.0  amadeus_v   \n2438955 -16.02  406.0   919.0  5.53  51.0   610.0  37.0   750.0  amadeus_v   \n2438956 -12.53  561.0  1129.0  5.03  57.0   966.0  36.0  1138.0  amadeus_v   \n\n        Total_Score  \n0          0.300000  \n1          0.312342  \n2          0.312341  \n3          0.312881  \n4          0.312880  \n...             ...  \n2438952    0.469689  \n2438953    0.626436  \n2438954    0.708390  \n2438955    0.732776  \n2438956    0.768959  \n\n[2438957 rows x 136 columns]",
      "text/html": "<div>\n<style scoped>\n    .dataframe tbody tr th:only-of-type {\n        vertical-align: middle;\n    }\n\n    .dataframe tbody tr th {\n        vertical-align: top;\n    }\n\n    .dataframe thead th {\n        text-align: right;\n    }\n</style>\n<table border=\"1\" class=\"dataframe\">\n  <thead>\n    <tr style=\"text-align: right;\">\n      <th></th>\n      <th>index</th>\n      <th>idnr</th>\n      <th>currency</th>\n      <th>nat_prim_code</th>\n      <th>nace_prim_code</th>\n      <th>naics_core_code</th>\n      <th>ussic_core_code</th>\n      <th>sd_isin</th>\n      <th>sd_sedol</th>\n      <th>sd_ticker</th>\n      <th>...</th>\n      <th>gear</th>\n      <th>ppe</th>\n      <th>tpe</th>\n      <th>sct</th>\n      <th>ace</th>\n      <th>sfpe</th>\n      <th>wcpe</th>\n      <th>tape</th>\n      <th>bvd_table</th>\n      <th>Total_Score</th>\n    </tr>\n  </thead>\n  <tbody>\n    <tr>\n      <th>0</th>\n      <td>0</td>\n      <td>AT9130090333</td>\n      <td>EUR</td>\n      <td>P85320</td>\n      <td>8532</td>\n      <td>6111</td>\n      <td>821</td>\n      <td>None</td>\n      <td>None</td>\n      <td>None</td>\n      <td>...</td>\n      <td>NaN</td>\n      <td>NaN</td>\n      <td>NaN</td>\n      <td>NaN</td>\n      <td>NaN</td>\n      <td>NaN</td>\n      <td>NaN</td>\n      <td>NaN</td>\n      <td>amadeus_m</td>\n      <td>0.300000</td>\n    </tr>\n    <tr>\n      <th>1</th>\n      <td>1</td>\n      <td>AT9010000033</td>\n      <td>EUR</td>\n      <td>L68209</td>\n      <td>6820</td>\n      <td>5311</td>\n      <td>651</td>\n      <td>None</td>\n      <td>None</td>\n      <td>None</td>\n      <td>...</td>\n      <td>NaN</td>\n      <td>NaN</td>\n      <td>NaN</td>\n      <td>NaN</td>\n      <td>NaN</td>\n      <td>NaN</td>\n      <td>NaN</td>\n      <td>NaN</td>\n      <td>amadeus_m</td>\n      <td>0.312342</td>\n    </tr>\n    <tr>\n      <th>2</th>\n      <td>2</td>\n      <td>AT9010000033</td>\n      <td>EUR</td>\n      <td>L68209</td>\n      <td>6820</td>\n      <td>5311</td>\n      <td>651</td>\n      <td>None</td>\n      <td>None</td>\n      <td>None</td>\n      <td>...</td>\n      <td>NaN</td>\n      <td>NaN</td>\n      <td>NaN</td>\n      <td>NaN</td>\n      <td>NaN</td>\n      <td>6322.0</td>\n      <td>NaN</td>\n      <td>9298.0</td>\n      <td>amadeus_m</td>\n      <td>0.312341</td>\n    </tr>\n    <tr>\n      <th>3</th>\n      <td>3</td>\n      <td>AT9010000033</td>\n      <td>EUR</td>\n      <td>L68209</td>\n      <td>6820</td>\n      <td>5311</td>\n      <td>651</td>\n      <td>None</td>\n      <td>None</td>\n      <td>None</td>\n      <td>...</td>\n      <td>NaN</td>\n      <td>NaN</td>\n      <td>NaN</td>\n      <td>NaN</td>\n      <td>NaN</td>\n      <td>5671.0</td>\n      <td>NaN</td>\n      <td>7419.0</td>\n      <td>amadeus_m</td>\n      <td>0.312881</td>\n    </tr>\n    <tr>\n      <th>4</th>\n      <td>4</td>\n      <td>AT9010000033</td>\n      <td>EUR</td>\n      <td>L68209</td>\n      <td>6820</td>\n      <td>5311</td>\n      <td>651</td>\n      <td>None</td>\n      <td>None</td>\n      <td>None</td>\n      <td>...</td>\n      <td>NaN</td>\n      <td>NaN</td>\n      <td>NaN</td>\n      <td>NaN</td>\n      <td>NaN</td>\n      <td>NaN</td>\n      <td>NaN</td>\n      <td>NaN</td>\n      <td>amadeus_m</td>\n      <td>0.312880</td>\n    </tr>\n    <tr>\n      <th>...</th>\n      <td>...</td>\n      <td>...</td>\n      <td>...</td>\n      <td>...</td>\n      <td>...</td>\n      <td>...</td>\n      <td>...</td>\n      <td>...</td>\n      <td>...</td>\n      <td>...</td>\n      <td>...</td>\n      <td>...</td>\n      <td>...</td>\n      <td>...</td>\n      <td>...</td>\n      <td>...</td>\n      <td>...</td>\n      <td>...</td>\n      <td>...</td>\n      <td>...</td>\n      <td>...</td>\n    </tr>\n    <tr>\n      <th>2438952</th>\n      <td>94938</td>\n      <td>DE8350148522</td>\n      <td>EUR</td>\n      <td>C10000</td>\n      <td>1000</td>\n      <td>311</td>\n      <td>200</td>\n      <td>None</td>\n      <td>None</td>\n      <td>None</td>\n      <td>...</td>\n      <td>-5.69</td>\n      <td>223.0</td>\n      <td>NaN</td>\n      <td>NaN</td>\n      <td>48.0</td>\n      <td>611.0</td>\n      <td>13.0</td>\n      <td>687.0</td>\n      <td>amadeus_v</td>\n      <td>0.469689</td>\n    </tr>\n    <tr>\n      <th>2438953</th>\n      <td>94939</td>\n      <td>DE8350148522</td>\n      <td>EUR</td>\n      <td>C10000</td>\n      <td>1000</td>\n      <td>311</td>\n      <td>200</td>\n      <td>None</td>\n      <td>None</td>\n      <td>None</td>\n      <td>...</td>\n      <td>-4.86</td>\n      <td>287.0</td>\n      <td>704.0</td>\n      <td>6.82</td>\n      <td>48.0</td>\n      <td>721.0</td>\n      <td>11.0</td>\n      <td>816.0</td>\n      <td>amadeus_v</td>\n      <td>0.626436</td>\n    </tr>\n    <tr>\n      <th>2438954</th>\n      <td>94940</td>\n      <td>DE8350148522</td>\n      <td>EUR</td>\n      <td>C10000</td>\n      <td>1000</td>\n      <td>311</td>\n      <td>200</td>\n      <td>None</td>\n      <td>None</td>\n      <td>None</td>\n      <td>...</td>\n      <td>-16.55</td>\n      <td>341.0</td>\n      <td>795.0</td>\n      <td>6.09</td>\n      <td>48.0</td>\n      <td>352.0</td>\n      <td>21.0</td>\n      <td>448.0</td>\n      <td>amadeus_v</td>\n      <td>0.708390</td>\n    </tr>\n    <tr>\n      <th>2438955</th>\n      <td>94941</td>\n      <td>DE8350148522</td>\n      <td>EUR</td>\n      <td>C10000</td>\n      <td>1000</td>\n      <td>311</td>\n      <td>200</td>\n      <td>None</td>\n      <td>None</td>\n      <td>None</td>\n      <td>...</td>\n      <td>-16.02</td>\n      <td>406.0</td>\n      <td>919.0</td>\n      <td>5.53</td>\n      <td>51.0</td>\n      <td>610.0</td>\n      <td>37.0</td>\n      <td>750.0</td>\n      <td>amadeus_v</td>\n      <td>0.732776</td>\n    </tr>\n    <tr>\n      <th>2438956</th>\n      <td>94942</td>\n      <td>DE8350148522</td>\n      <td>EUR</td>\n      <td>C10000</td>\n      <td>1000</td>\n      <td>311</td>\n      <td>200</td>\n      <td>None</td>\n      <td>None</td>\n      <td>None</td>\n      <td>...</td>\n      <td>-12.53</td>\n      <td>561.0</td>\n      <td>1129.0</td>\n      <td>5.03</td>\n      <td>57.0</td>\n      <td>966.0</td>\n      <td>36.0</td>\n      <td>1138.0</td>\n      <td>amadeus_v</td>\n      <td>0.768959</td>\n    </tr>\n  </tbody>\n</table>\n<p>2438957 rows × 136 columns</p>\n</div>"
     },
     "execution_count": 148,
     "metadata": {},
     "output_type": "execute_result"
    }
   ],
   "source": [
    "findata[]"
   ],
   "metadata": {
    "collapsed": false,
    "ExecuteTime": {
     "end_time": "2023-09-23T18:43:13.909891Z",
     "start_time": "2023-09-23T18:43:12.177433Z"
    }
   },
   "id": "519b2c7c2287d0df"
  },
  {
   "cell_type": "markdown",
   "source": [
    "Performance Score\n",
    "\n",
    "Total_Score = Product(Sub_Scores)**0.2\n",
    "Sub_Scores = Sum(weighted Percentile Ranks)\n",
    "             - Percentile Rank grouped by Country (country) and Sector (NAT_PRIM_CODE)\n",
    "             - Missing values = 0.5\n",
    "             - Weighted according to the dict below\n",
    "\n",
    "a) profitability\n",
    "Return on shareholders funds (%) (RSHF) hib 0.5\n",
    "Return on capital employed (%) (RCEM) hib 0.25\n",
    "Return on total assets (%) (RTAS) hib 0.25\n",
    "\n",
    "b) margins\n",
    "Profit margin (%) (PRMA) hib 1/6\n",
    "Gross Margin (%) (GRMA) hib 1/6\n",
    "EBITDA Margin (%) (ETMA) hib 1/6\n",
    "EBIT Margin (%) (EBMA) hib 1/6\n",
    "Cash flow/Turnover (%) (CFOP) hib 1/3\n",
    "\n",
    "c) balance sheet health\n",
    "Liquidity ratio (x) (LIQR) hib 1/6\n",
    "Shareholders liquidity ratio (x) (SHLQ) hib 1/6\n",
    "Solvency ratio (%) (SOLR) hib 1/6\n",
    "Gearing (%) (GEAR)lib 1/6\n",
    "Interest cover (x) (IC) hib 1/3\n",
    "\n",
    "d) working capital efficiency\n",
    "Stock turnover (x) (STOT) hib 1/3\n",
    "Collection period (days) (COLL) lib 1/3\n",
    "Credit period (days) (CRPE) hib 1/3\n",
    "\n",
    "e) labor productivity\n",
    "Profit per employee (PPE) hib 1/3\n",
    "Operat. rev. per employee (TPE) hib 1/3\n",
    "Aver. cost of empl./year (ACE) lib 1/3"
   ],
   "metadata": {
    "collapsed": false
   },
   "id": "a264ffa6478d1dba"
  },
  {
   "cell_type": "code",
   "execution_count": 116,
   "outputs": [],
   "source": [
    "score_weights = {\n",
    "    \"performance_score_a\": {\"rshf\": 1/2, \"rcem\": 1/4, \"rtas\": 1/4},\n",
    "    \"performance_score_b\": {\"prma\": 1/6, \"grma\": 1/6, \"etma\": 1/6, \"ebma\": 1/6, \"cfop\": 1/3},\n",
    "    \"performance_score_c\": {\"liqr\": 1/6, \"shlq\": 1/6, \"solr\": 1/6, \"gear\": 1/6, \"ic\": 1/3},\n",
    "    \"performance_score_d\": {\"stot\": 1/3, \"coll\": 1/3, \"crpe\": 1/3},\n",
    "    \"performance_score_e\": {\"ppe\": 1/3, \"tpe\": 1/3, \"ace\": 1/3},\n",
    "}\n",
    "\n",
    "score_orientation = [\"solr\", \"gear\", \"coll\"]\n",
    "\n",
    "performance_score_a = [\"rshf\", \"rcem\", \"rtas\"]\n",
    "performance_score_b = [\"prma\", \"grma\", \"etma\", \"ebma\", \"cfop\"]\n",
    "performance_score_c = [\"liqr\", \"shlq\", \"solr\", \"gear\", \"ic\"]\n",
    "performance_score_d = [\"stot\", \"coll\", \"crpe\"]\n",
    "performance_score_e = [\"ppe\",  \"tpe\",  \"ace\"]\n",
    "\n",
    "\n",
    "all_sub_scores = (\n",
    "    performance_score_a +\n",
    "    performance_score_b +\n",
    "    performance_score_c +\n",
    "    performance_score_d +\n",
    "    performance_score_e\n",
    ")"
   ],
   "metadata": {
    "collapsed": false,
    "ExecuteTime": {
     "end_time": "2023-09-23T18:22:07.540494Z",
     "start_time": "2023-09-23T18:22:07.524380Z"
    }
   },
   "id": "6a9efcbd5238116c"
  },
  {
   "cell_type": "code",
   "execution_count": 117,
   "outputs": [],
   "source": [
    "findata[score_orientation] = -1 * findata[score_orientation]"
   ],
   "metadata": {
    "collapsed": false,
    "ExecuteTime": {
     "end_time": "2023-09-23T18:22:16.531894Z",
     "start_time": "2023-09-23T18:22:09.837358Z"
    }
   },
   "id": "b5fdb73f14a6c1e2"
  },
  {
   "cell_type": "code",
   "execution_count": null,
   "outputs": [],
   "source": [
    "findata[all_sub_scores].T.describe(include='all').T"
   ],
   "metadata": {
    "collapsed": false,
    "is_executing": true,
    "ExecuteTime": {
     "start_time": "2023-09-23T18:45:08.846152Z"
    }
   },
   "id": "1f8c10359ad7ad57"
  },
  {
   "cell_type": "code",
   "execution_count": 134,
   "outputs": [],
   "source": [
    "# Create a new DataFrame to store the weighted percentile ranks\n",
    "weighted_percentile_ranks = pd.DataFrame()\n",
    "    \n",
    "# Iterate through each performance score category\n",
    "for category in score_weights.keys():\n",
    "    sub_scores = list(score_weights[category].keys())\n",
    "    \n",
    "    # Calculate the percentile ranks for each sub-score\n",
    "    percentile_ranks = findata[sub_scores + ['cntrycde', 'nat_prim_code']].groupby(['cntrycde', 'nat_prim_code']).rank(pct=True, axis=0, method='max', na_option='keep')\n",
    "    percentile_ranks.fillna(0.3, inplace=True)\n",
    "    \n",
    "    # Apply weights\n",
    "    weighted_ranks = percentile_ranks * np.array(list(score_weights[category].values()))\n",
    "    \n",
    "    # Sum weighted percentile ranks for each sub-score and add to the new DataFrame\n",
    "    sub_score_name = f\"{category}_Sub_Score\"\n",
    "    weighted_percentile_ranks[sub_score_name] = weighted_ranks.sum(axis=1)\n",
    "\n",
    "# Calculate the Total_Score\n",
    "weighted_percentile_ranks['Total_Score'] = np.sum(weighted_percentile_ranks.filter(like='Sub_Score'), axis=1) / 5\n",
    "\n",
    "# Add the Total_Score as a new column in the original DataFrame 'findata'\n",
    "findata['Total_Score'] = weighted_percentile_ranks['Total_Score']\n"
   ],
   "metadata": {
    "collapsed": false,
    "ExecuteTime": {
     "end_time": "2023-09-23T18:31:33.640937Z",
     "start_time": "2023-09-23T18:31:17.083832Z"
    }
   },
   "id": "ae1c10882d099a9b"
  },
  {
   "cell_type": "code",
   "execution_count": 135,
   "outputs": [
    {
     "data": {
      "text/plain": "count    2438957.00\nmean           0.34\nstd            0.07\nmin            0.11\n25%            0.30\n50%            0.31\n75%            0.35\nmax            0.95\nName: Total_Score, dtype: float64"
     },
     "execution_count": 135,
     "metadata": {},
     "output_type": "execute_result"
    }
   ],
   "source": [
    "round(findata['Total_Score'].describe(),2)"
   ],
   "metadata": {
    "collapsed": false,
    "ExecuteTime": {
     "end_time": "2023-09-23T18:31:33.741881Z",
     "start_time": "2023-09-23T18:31:33.640130Z"
    }
   },
   "id": "745152252a1e4229"
  },
  {
   "cell_type": "code",
   "execution_count": 136,
   "outputs": [
    {
     "data": {
      "text/plain": "(array([7.440000e+02, 2.489900e+04, 1.915708e+06, 2.848270e+05,\n        1.191070e+05, 5.492200e+04, 2.903300e+04, 8.938000e+03,\n        7.650000e+02, 1.400000e+01]),\n array([0.11011225, 0.19426769, 0.27842314, 0.36257858, 0.44673402,\n        0.53088946, 0.6150449 , 0.69920034, 0.78335578, 0.86751123,\n        0.95166667]),\n <BarContainer object of 10 artists>)"
     },
     "execution_count": 136,
     "metadata": {},
     "output_type": "execute_result"
    },
    {
     "data": {
      "text/plain": "<Figure size 432x288 with 1 Axes>",
      "image/png": "[encoded data removed]"
     },
     "metadata": {
      "needs_background": "light"
     },
     "output_type": "display_data"
    }
   ],
   "source": [
    "plt.hist(findata['Total_Score'])"
   ],
   "metadata": {
    "collapsed": false,
    "ExecuteTime": {
     "end_time": "2023-09-23T18:31:33.992845Z",
     "start_time": "2023-09-23T18:31:33.759160Z"
    }
   },
   "id": "c98dd23ce5cda039"
  },
  {
   "cell_type": "code",
   "execution_count": 12,
   "outputs": [],
   "source": [
    "reviews = pd.read_csv(\"reviews.csv\")\n",
    "unique_company_IDs_20K = reviews['company_uuid'].unique()"
   ],
   "metadata": {
    "collapsed": false,
    "ExecuteTime": {
     "start_time": "2023-09-21T13:43:27.345712Z"
    }
   },
   "id": "f277cfef9ec674a2"
  }
 ],
 "metadata": {
  "kernelspec": {
   "display_name": "Python 3",
   "language": "python",
   "name": "python3"
  },
  "language_info": {
   "codemirror_mode": {
    "name": "ipython",
    "version": 2
   },
   "file_extension": ".py",
   "mimetype": "text/x-python",
   "name": "python",
   "nbconvert_exporter": "python",
   "pygments_lexer": "ipython2",
   "version": "2.7.6"
  }
 },
 "nbformat": 4,
 "nbformat_minor": 5
}
