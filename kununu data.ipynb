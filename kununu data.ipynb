{
 "cells": [
  {
   "cell_type": "markdown",
   "source": [
    "# Kununu data\n",
    "### Import"
   ],
   "metadata": {
    "collapsed": false
   }
  },
  {
   "cell_type": "code",
   "execution_count": null,
   "outputs": [],
   "source": [
    "import sqlite3\n",
    "import csv\n",
    "import os"
   ],
   "metadata": {
    "collapsed": false
   }
  },
  {
   "cell_type": "markdown",
   "source": [
    "### Convert database into csv-files"
   ],
   "metadata": {
    "collapsed": false
   }
  },
  {
   "cell_type": "code",
   "execution_count": 3,
   "outputs": [
    {
     "name": "stdout",
     "output_type": "stream",
     "text": [
      "Exporting 'completereviews' to CSV...\n",
      "Data from 'completereviews' has been exported to /Users/elenariegger/Desktop/Frankfurt School/3. Semester/SPM/Project/review_1/completereviews.csv\n",
      "Exporting 'reviews' to CSV...\n",
      "Data from 'reviews' has been exported to /Users/elenariegger/Desktop/Frankfurt School/3. Semester/SPM/Project/review_1/reviews.csv\n",
      "Exporting 'regions' to CSV...\n",
      "Data from 'regions' has been exported to /Users/elenariegger/Desktop/Frankfurt School/3. Semester/SPM/Project/review_1/regions.csv\n",
      "Exporting 'crawler_v2' to CSV...\n",
      "Data from 'crawler_v2' has been exported to /Users/elenariegger/Desktop/Frankfurt School/3. Semester/SPM/Project/review_1/crawler_v2.csv\n",
      "Exporting 'crawler' to CSV...\n",
      "Data from 'crawler' has been exported to /Users/elenariegger/Desktop/Frankfurt School/3. Semester/SPM/Project/review_1/crawler.csv\n"
     ]
    }
   ],
   "source": [
    "# Path to the SQLite database and directory to save CSV files\n",
    "database_path = 'reviews'\n",
    "# Get the current working directory (GitHub repository root)\n",
    "current_directory = os.getcwd()\n",
    "\n",
    "# Define the subdirectory within the GitHub repository where you want to save CSV files\n",
    "output_subdirectory = 'review_1'\n",
    "\n",
    "# Combine the current directory with the subdirectory to get the output directory path\n",
    "output_directory = os.path.join(current_directory, output_subdirectory)\n",
    "\n",
    "# Create the output directory if it doesn't exist\n",
    "if not os.path.exists(output_directory):\n",
    "    os.makedirs(output_directory)\n",
    "\n",
    "# Connect to the SQLite database\n",
    "conn = sqlite3.connect(database_path)\n",
    "cursor = conn.cursor()\n",
    "\n",
    "# Fetch the list of tables in the database\n",
    "cursor.execute(\"SELECT name FROM sqlite_master WHERE type='table';\")\n",
    "tables = cursor.fetchall()\n",
    "\n",
    "# Loop through each table and export it to a CSV file\n",
    "for table in tables:\n",
    "    table_name = table[0]\n",
    "    print(f\"Exporting '{table_name}' to CSV...\")\n",
    "\n",
    "    # Fetch data from the table\n",
    "    cursor.execute(f\"SELECT * FROM {table_name};\")\n",
    "    rows = cursor.fetchall()\n",
    "\n",
    "    # Fetch column names\n",
    "    column_names = [description[0] for description in cursor.description]\n",
    "\n",
    "    # Write data to CSV file\n",
    "    csv_file_path = os.path.join(output_directory, f\"{table_name}.csv\")\n",
    "    with open(csv_file_path, 'w', newline='') as csvfile:\n",
    "        csv_writer = csv.writer(csvfile)\n",
    "\n",
    "        # Write header\n",
    "        csv_writer.writerow(column_names)\n",
    "\n",
    "        # Write rows\n",
    "        csv_writer.writerows(rows)\n",
    "\n",
    "    print(f\"Data from '{table_name}' has been exported to {csv_file_path}\")\n",
    "\n",
    "# Close the database connection\n",
    "conn.close()"
   ],
   "metadata": {
    "collapsed": false,
    "ExecuteTime": {
     "end_time": "2023-09-21T09:54:08.262689Z",
     "start_time": "2023-09-21T09:52:52.739239Z"
    }
   }
  },
  {
   "cell_type": "code",
   "execution_count": null,
   "outputs": [],
   "source": [],
   "metadata": {
    "collapsed": false
   }
  }
 ],
 "metadata": {
  "kernelspec": {
   "display_name": "Python 3",
   "language": "python",
   "name": "python3"
  },
  "language_info": {
   "codemirror_mode": {
    "name": "ipython",
    "version": 2
   },
   "file_extension": ".py",
   "mimetype": "text/x-python",
   "name": "python",
   "nbconvert_exporter": "python",
   "pygments_lexer": "ipython2",
   "version": "2.7.6"
  }
 },
 "nbformat": 4,
 "nbformat_minor": 0
}
